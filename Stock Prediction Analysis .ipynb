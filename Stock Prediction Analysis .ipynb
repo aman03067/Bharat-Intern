{
 "cells": [
  {
   "cell_type": "markdown",
   "id": "a3091a88",
   "metadata": {},
   "source": [
    "# Bharat Intern Task : Stock Prediction"
   ]
  },
  {
   "cell_type": "code",
   "execution_count": 5,
   "id": "1b7e8868",
   "metadata": {},
   "outputs": [],
   "source": [
    "import numpy as np\n",
    "import pandas as pd\n",
    "from sklearn.preprocessing import MinMaxScaler\n",
    "from keras.models import Sequential\n",
    "from keras.layers import LSTM, Dense\n",
    "import matplotlib.pyplot as plt"
   ]
  },
  {
   "cell_type": "markdown",
   "id": "001855f6",
   "metadata": {},
   "source": [
    "# Loading and Preprocessing"
   ]
  },
  {
   "cell_type": "code",
   "execution_count": 6,
   "id": "47996f6d",
   "metadata": {},
   "outputs": [],
   "source": [
    "data = pd.read_csv('Amazon.csv')\n",
    "data = data['Close'].values.reshape(-1, 1)\n",
    "scaler = MinMaxScaler(feature_range=(0, 1))\n",
    "data = scaler.fit_transform(data)"
   ]
  },
  {
   "cell_type": "markdown",
   "id": "21c33155",
   "metadata": {},
   "source": [
    "# Preparing Sequences"
   ]
  },
  {
   "cell_type": "code",
   "execution_count": 7,
   "id": "d6183984",
   "metadata": {},
   "outputs": [],
   "source": [
    "X = []\n",
    "y = []\n",
    "for i in range(60, len(data)):\n",
    "    X.append(data[i-60:i, 0])\n",
    "    y.append(data[i, 0])\n",
    "X = np.array(X)\n",
    "y = np.array(y)\n",
    "X = np.reshape(X, (X.shape[0], X.shape[1], 1))"
   ]
  },
  {
   "cell_type": "markdown",
   "id": "0ab64b7f",
   "metadata": {},
   "source": [
    " # Build and Train LSTM Model"
   ]
  },
  {
   "cell_type": "code",
   "execution_count": 8,
   "id": "8c15cc0b",
   "metadata": {},
   "outputs": [
    {
     "name": "stdout",
     "output_type": "stream",
     "text": [
      "Epoch 1/100\n",
      "5/5 [==============================] - 8s 81ms/step - loss: 0.1321\n",
      "Epoch 2/100\n",
      "5/5 [==============================] - 0s 74ms/step - loss: 0.0286\n",
      "Epoch 3/100\n",
      "5/5 [==============================] - 0s 71ms/step - loss: 0.0116\n",
      "Epoch 4/100\n",
      "5/5 [==============================] - 0s 72ms/step - loss: 0.0160\n",
      "Epoch 5/100\n",
      "5/5 [==============================] - 0s 72ms/step - loss: 0.0097\n",
      "Epoch 6/100\n",
      "5/5 [==============================] - 0s 75ms/step - loss: 0.0084\n",
      "Epoch 7/100\n",
      "5/5 [==============================] - 0s 71ms/step - loss: 0.0074\n",
      "Epoch 8/100\n",
      "5/5 [==============================] - 0s 77ms/step - loss: 0.0062\n",
      "Epoch 9/100\n",
      "5/5 [==============================] - 0s 74ms/step - loss: 0.0058\n",
      "Epoch 10/100\n",
      "5/5 [==============================] - 0s 72ms/step - loss: 0.0054\n",
      "Epoch 11/100\n",
      "5/5 [==============================] - 0s 72ms/step - loss: 0.0052\n",
      "Epoch 12/100\n",
      "5/5 [==============================] - 0s 71ms/step - loss: 0.0052\n",
      "Epoch 13/100\n",
      "5/5 [==============================] - 0s 72ms/step - loss: 0.0050\n",
      "Epoch 14/100\n",
      "5/5 [==============================] - 0s 74ms/step - loss: 0.0051\n",
      "Epoch 15/100\n",
      "5/5 [==============================] - 0s 70ms/step - loss: 0.0051\n",
      "Epoch 16/100\n",
      "5/5 [==============================] - 0s 70ms/step - loss: 0.0049\n",
      "Epoch 17/100\n",
      "5/5 [==============================] - 0s 77ms/step - loss: 0.0048\n",
      "Epoch 18/100\n",
      "5/5 [==============================] - 0s 72ms/step - loss: 0.0047\n",
      "Epoch 19/100\n",
      "5/5 [==============================] - 0s 74ms/step - loss: 0.0047\n",
      "Epoch 20/100\n",
      "5/5 [==============================] - 0s 71ms/step - loss: 0.0047\n",
      "Epoch 21/100\n",
      "5/5 [==============================] - 0s 71ms/step - loss: 0.0046\n",
      "Epoch 22/100\n",
      "5/5 [==============================] - 0s 70ms/step - loss: 0.0046\n",
      "Epoch 23/100\n",
      "5/5 [==============================] - 0s 69ms/step - loss: 0.0045\n",
      "Epoch 24/100\n",
      "5/5 [==============================] - 0s 71ms/step - loss: 0.0046\n",
      "Epoch 25/100\n",
      "5/5 [==============================] - 0s 71ms/step - loss: 0.0044\n",
      "Epoch 26/100\n",
      "5/5 [==============================] - 0s 71ms/step - loss: 0.0044\n",
      "Epoch 27/100\n",
      "5/5 [==============================] - 0s 73ms/step - loss: 0.0043\n",
      "Epoch 28/100\n",
      "5/5 [==============================] - 0s 71ms/step - loss: 0.0043\n",
      "Epoch 29/100\n",
      "5/5 [==============================] - 0s 70ms/step - loss: 0.0042\n",
      "Epoch 30/100\n",
      "5/5 [==============================] - 0s 70ms/step - loss: 0.0042\n",
      "Epoch 31/100\n",
      "5/5 [==============================] - 0s 71ms/step - loss: 0.0042\n",
      "Epoch 32/100\n",
      "5/5 [==============================] - 0s 70ms/step - loss: 0.0041\n",
      "Epoch 33/100\n",
      "5/5 [==============================] - 0s 72ms/step - loss: 0.0041\n",
      "Epoch 34/100\n",
      "5/5 [==============================] - 0s 71ms/step - loss: 0.0040\n",
      "Epoch 35/100\n",
      "5/5 [==============================] - 0s 71ms/step - loss: 0.0039\n",
      "Epoch 36/100\n",
      "5/5 [==============================] - 0s 70ms/step - loss: 0.0039\n",
      "Epoch 37/100\n",
      "5/5 [==============================] - 0s 69ms/step - loss: 0.0038\n",
      "Epoch 38/100\n",
      "5/5 [==============================] - 0s 68ms/step - loss: 0.0038\n",
      "Epoch 39/100\n",
      "5/5 [==============================] - 0s 74ms/step - loss: 0.0037\n",
      "Epoch 40/100\n",
      "5/5 [==============================] - 0s 74ms/step - loss: 0.0037\n",
      "Epoch 41/100\n",
      "5/5 [==============================] - 0s 70ms/step - loss: 0.0037\n",
      "Epoch 42/100\n",
      "5/5 [==============================] - 0s 71ms/step - loss: 0.0036\n",
      "Epoch 43/100\n",
      "5/5 [==============================] - 0s 73ms/step - loss: 0.0036\n",
      "Epoch 44/100\n",
      "5/5 [==============================] - 0s 69ms/step - loss: 0.0035\n",
      "Epoch 45/100\n",
      "5/5 [==============================] - 0s 70ms/step - loss: 0.0035\n",
      "Epoch 46/100\n",
      "5/5 [==============================] - 0s 70ms/step - loss: 0.0034\n",
      "Epoch 47/100\n",
      "5/5 [==============================] - 0s 70ms/step - loss: 0.0034\n",
      "Epoch 48/100\n",
      "5/5 [==============================] - 0s 69ms/step - loss: 0.0033\n",
      "Epoch 49/100\n",
      "5/5 [==============================] - 0s 71ms/step - loss: 0.0033\n",
      "Epoch 50/100\n",
      "5/5 [==============================] - 0s 70ms/step - loss: 0.0033\n",
      "Epoch 51/100\n",
      "5/5 [==============================] - 0s 71ms/step - loss: 0.0033\n",
      "Epoch 52/100\n",
      "5/5 [==============================] - 0s 70ms/step - loss: 0.0034\n",
      "Epoch 53/100\n",
      "5/5 [==============================] - 0s 70ms/step - loss: 0.0033\n",
      "Epoch 54/100\n",
      "5/5 [==============================] - 0s 71ms/step - loss: 0.0034\n",
      "Epoch 55/100\n",
      "5/5 [==============================] - 0s 72ms/step - loss: 0.0033\n",
      "Epoch 56/100\n",
      "5/5 [==============================] - 0s 73ms/step - loss: 0.0031\n",
      "Epoch 57/100\n",
      "5/5 [==============================] - 0s 71ms/step - loss: 0.0031\n",
      "Epoch 58/100\n",
      "5/5 [==============================] - 0s 71ms/step - loss: 0.0031\n",
      "Epoch 59/100\n",
      "5/5 [==============================] - 0s 71ms/step - loss: 0.0031\n",
      "Epoch 60/100\n",
      "5/5 [==============================] - 0s 71ms/step - loss: 0.0031\n",
      "Epoch 61/100\n",
      "5/5 [==============================] - 0s 71ms/step - loss: 0.0030\n",
      "Epoch 62/100\n",
      "5/5 [==============================] - 0s 69ms/step - loss: 0.0030\n",
      "Epoch 63/100\n",
      "5/5 [==============================] - 0s 71ms/step - loss: 0.0030\n",
      "Epoch 64/100\n",
      "5/5 [==============================] - 0s 71ms/step - loss: 0.0031\n",
      "Epoch 65/100\n",
      "5/5 [==============================] - 0s 71ms/step - loss: 0.0031\n",
      "Epoch 66/100\n",
      "5/5 [==============================] - 0s 70ms/step - loss: 0.0032\n",
      "Epoch 67/100\n",
      "5/5 [==============================] - 0s 71ms/step - loss: 0.0029\n",
      "Epoch 68/100\n",
      "5/5 [==============================] - 0s 70ms/step - loss: 0.0030\n",
      "Epoch 69/100\n",
      "5/5 [==============================] - 0s 71ms/step - loss: 0.0028\n",
      "Epoch 70/100\n",
      "5/5 [==============================] - 0s 70ms/step - loss: 0.0029\n",
      "Epoch 71/100\n",
      "5/5 [==============================] - 0s 70ms/step - loss: 0.0030\n",
      "Epoch 72/100\n",
      "5/5 [==============================] - 0s 70ms/step - loss: 0.0029\n",
      "Epoch 73/100\n",
      "5/5 [==============================] - 0s 69ms/step - loss: 0.0028\n",
      "Epoch 74/100\n",
      "5/5 [==============================] - 0s 69ms/step - loss: 0.0028\n",
      "Epoch 75/100\n",
      "5/5 [==============================] - 0s 69ms/step - loss: 0.0030\n",
      "Epoch 76/100\n",
      "5/5 [==============================] - 0s 70ms/step - loss: 0.0030\n",
      "Epoch 77/100\n",
      "5/5 [==============================] - 0s 70ms/step - loss: 0.0031\n",
      "Epoch 78/100\n",
      "5/5 [==============================] - 0s 69ms/step - loss: 0.0030\n",
      "Epoch 79/100\n",
      "5/5 [==============================] - 0s 72ms/step - loss: 0.0030\n",
      "Epoch 80/100\n",
      "5/5 [==============================] - 0s 71ms/step - loss: 0.0029\n",
      "Epoch 81/100\n",
      "5/5 [==============================] - 0s 72ms/step - loss: 0.0027\n",
      "Epoch 82/100\n",
      "5/5 [==============================] - 0s 73ms/step - loss: 0.0027\n",
      "Epoch 83/100\n",
      "5/5 [==============================] - 0s 74ms/step - loss: 0.0027\n",
      "Epoch 84/100\n",
      "5/5 [==============================] - 0s 71ms/step - loss: 0.0027\n",
      "Epoch 85/100\n",
      "5/5 [==============================] - 0s 71ms/step - loss: 0.0027\n",
      "Epoch 86/100\n",
      "5/5 [==============================] - 0s 72ms/step - loss: 0.0030\n",
      "Epoch 87/100\n",
      "5/5 [==============================] - 0s 73ms/step - loss: 0.0029\n",
      "Epoch 88/100\n",
      "5/5 [==============================] - 0s 70ms/step - loss: 0.0028\n",
      "Epoch 89/100\n",
      "5/5 [==============================] - 0s 71ms/step - loss: 0.0028\n",
      "Epoch 90/100\n",
      "5/5 [==============================] - 0s 71ms/step - loss: 0.0027\n",
      "Epoch 91/100\n",
      "5/5 [==============================] - 0s 72ms/step - loss: 0.0027\n",
      "Epoch 92/100\n",
      "5/5 [==============================] - 0s 71ms/step - loss: 0.0027\n",
      "Epoch 93/100\n",
      "5/5 [==============================] - 0s 70ms/step - loss: 0.0027\n",
      "Epoch 94/100\n",
      "5/5 [==============================] - 0s 71ms/step - loss: 0.0028\n",
      "Epoch 95/100\n",
      "5/5 [==============================] - 0s 70ms/step - loss: 0.0028\n",
      "Epoch 96/100\n",
      "5/5 [==============================] - 0s 71ms/step - loss: 0.0028\n",
      "Epoch 97/100\n",
      "5/5 [==============================] - 0s 71ms/step - loss: 0.0028\n",
      "Epoch 98/100\n",
      "5/5 [==============================] - 0s 71ms/step - loss: 0.0028\n",
      "Epoch 99/100\n",
      "5/5 [==============================] - 0s 71ms/step - loss: 0.0029\n",
      "Epoch 100/100\n",
      "5/5 [==============================] - 0s 71ms/step - loss: 0.0027\n"
     ]
    },
    {
     "data": {
      "text/plain": [
       "<keras.src.callbacks.History at 0x199a6de2290>"
      ]
     },
     "execution_count": 8,
     "metadata": {},
     "output_type": "execute_result"
    }
   ],
   "source": [
    "model = Sequential() \n",
    "model.add(LSTM(units=50, return_sequences=True, input_shape=(X.shape[1], 1)))\n",
    "model.add(LSTM(units=50))\n",
    "model.add(Dense(units=1))\n",
    "model.compile(optimizer='adam', loss='mean_squared_error')\n",
    "model.fit(X, y, epochs=100, batch_size=32)"
   ]
  },
  {
   "cell_type": "markdown",
   "id": "152194f0",
   "metadata": {},
   "source": [
    "# Prediction Making"
   ]
  },
  {
   "cell_type": "code",
   "execution_count": 9,
   "id": "679b6eb6",
   "metadata": {},
   "outputs": [
    {
     "name": "stdout",
     "output_type": "stream",
     "text": [
      "5/5 [==============================] - 2s 29ms/step\n"
     ]
    }
   ],
   "source": [
    "predictions = model.predict(X)\n",
    "predictions = scaler.inverse_transform(predictions)"
   ]
  },
  {
   "cell_type": "markdown",
   "id": "06015758",
   "metadata": {},
   "source": [
    "# Actual vs Predicted Prices"
   ]
  },
  {
   "cell_type": "code",
   "execution_count": 10,
   "id": "a421a478",
   "metadata": {},
   "outputs": [
    {
     "data": {
      "image/png": "[encoded data removed]",
      "text/plain": [
       "<Figure size 640x480 with 1 Axes>"
      ]
     },
     "metadata": {},
     "output_type": "display_data"
    }
   ],
   "source": [
    "plt.plot(data, color='green', label='Actual Amazon Stock Price')\n",
    "plt.plot(predictions, color='red', label='Predicted Amazon Stock Price')\n",
    "plt.title('Amazon Stock Price Prediction')\n",
    "plt.xlabel('Time')\n",
    "plt.ylabel('Amazon Stock Price')\n",
    "plt.legend()\n",
    "plt.show()"
   ]
  },
  {
   "cell_type": "markdown",
   "id": "b26a56fe",
   "metadata": {},
   "source": [
    "# Data For Future Predictions"
   ]
  },
  {
   "cell_type": "code",
   "execution_count": 11,
   "id": "683b99fe",
   "metadata": {},
   "outputs": [],
   "source": [
    " future_X = data[-60:]\n",
    "future_X = scaler.transform(future_X)\n",
    "future_X = np.reshape(future_X, (1, future_X.shape[0], 1))"
   ]
  },
  {
   "cell_type": "markdown",
   "id": "1c2f0d32",
   "metadata": {},
   "source": [
    "# Make Future Predictions "
   ]
  },
  {
   "cell_type": "code",
   "execution_count": 12,
   "id": "cb843bd1",
   "metadata": {},
   "outputs": [
    {
     "name": "stdout",
     "output_type": "stream",
     "text": [
      "1/1 [==============================] - 0s 51ms/step\n",
      "1/1 [==============================] - 0s 47ms/step\n",
      "1/1 [==============================] - 0s 41ms/step\n",
      "1/1 [==============================] - 0s 50ms/step\n",
      "1/1 [==============================] - 0s 46ms/step\n",
      "1/1 [==============================] - 0s 46ms/step\n",
      "1/1 [==============================] - 0s 46ms/step\n",
      "1/1 [==============================] - 0s 45ms/step\n",
      "1/1 [==============================] - 0s 43ms/step\n",
      "1/1 [==============================] - 0s 51ms/step\n",
      "1/1 [==============================] - 0s 50ms/step\n",
      "1/1 [==============================] - 0s 46ms/step\n",
      "1/1 [==============================] - 0s 46ms/step\n",
      "1/1 [==============================] - 0s 46ms/step\n",
      "1/1 [==============================] - 0s 46ms/step\n",
      "1/1 [==============================] - 0s 52ms/step\n",
      "1/1 [==============================] - 0s 50ms/step\n",
      "1/1 [==============================] - 0s 51ms/step\n",
      "1/1 [==============================] - 0s 48ms/step\n",
      "1/1 [==============================] - 0s 50ms/step\n",
      "1/1 [==============================] - 0s 60ms/step\n",
      "1/1 [==============================] - 0s 46ms/step\n",
      "1/1 [==============================] - 0s 45ms/step\n",
      "1/1 [==============================] - 0s 47ms/step\n",
      "1/1 [==============================] - 0s 46ms/step\n",
      "1/1 [==============================] - 0s 48ms/step\n",
      "1/1 [==============================] - 0s 43ms/step\n",
      "1/1 [==============================] - 0s 44ms/step\n",
      "1/1 [==============================] - 0s 41ms/step\n",
      "1/1 [==============================] - 0s 48ms/step\n"
     ]
    }
   ],
   "source": [
    "future_predictions = []\n",
    "for i in range(30):\n",
    "    prediction = model.predict(future_X)\n",
    "    future_predictions.append(prediction[0, 0])\n",
    "    prediction = np.reshape(prediction, (1, 1, 1))\n",
    "    future_X = np.append(future_X[:, 1:, :], prediction, axis=1)\n",
    "\n",
    "\n",
    "future_predictions = np.array(future_predictions).reshape(-1, 1)\n",
    "future_predictions = scaler.inverse_transform(future_predictions)"
   ]
  },
  {
   "cell_type": "markdown",
   "id": "ca4419b2",
   "metadata": {},
   "source": [
    "# Plot the future predictions"
   ]
  },
  {
   "cell_type": "code",
   "execution_count": 13,
   "id": "f6a777f3",
   "metadata": {},
   "outputs": [
    {
     "data": {
      "image/png": "[encoded data removed]",
      "text/plain": [
       "<Figure size 640x480 with 1 Axes>"
      ]
     },
     "metadata": {},
     "output_type": "display_data"
    }
   ],
   "source": [
    "plt.plot(future_predictions, color='green', label='Future Amazon Stock Price')\n",
    "plt.title('Amazon Stock Price Prediction')\n",
    "plt.xlabel('Time')\n",
    "plt.ylabel('Amazon Stock Price')\n",
    "plt.legend()\n",
    "plt.show()"
   ]
  }
 ],
 "metadata": {
  "kernelspec": {
   "display_name": "Python 3 (ipykernel)",
   "language": "python",
   "name": "python3"
  },
  "language_info": {
   "codemirror_mode": {
    "name": "ipython",
    "version": 3
   },
   "file_extension": ".py",
   "mimetype": "text/x-python",
   "name": "python",
   "nbconvert_exporter": "python",
   "pygments_lexer": "ipython3",
   "version": "3.11.4"
  }
 },
 "nbformat": 4,
 "nbformat_minor": 5
}
